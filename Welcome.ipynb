{
 "cells": [
  {
   "cell_type": "markdown",
   "metadata": {},
   "source": [
    "# Table of Contents\n",
    "* [List of Notebooks](#List-of-Notebooks)\n",
    "* [Description of Notebooks](#Description-of-Notebooks)\n",
    "\t* [notebook to get file name vs time stamp -> [step1_create_file_name_vs_time_stamp_ascii_file](step1_create_file_name_vs_time_stamp_ascii_file.ipynb)](#notebook-to-get-file-name-vs-time-stamp-->-[step1_create_file_name_vs_time_stamp_ascii_file]%28step1_create_file_name_vs_time_stamp_ascii_file.ipynb%29)\n",
    "\t* [[notebook to normalize the data (step2_normalize_data)](step2_normalize_data.ipynb)](#[notebook-to-normalize-the-data-%28step2_normalize_data%29]%28step2_normalize_data.ipynb%29)\n",
    "\t* [[notebook to rotate images (step3_rotate_images)](step3_rotate_image.ipynb)](#[notebook-to-rotate-images-%28step3_rotate_images%29]%28step3_rotate_image.ipynb%29)\n",
    "\t* [[notebook to combine images (step4_bin_files)](step4_bin_files.ipynb)](#[notebook-to-combine-images-%28step4_bin_files%29]%28step4_bin_files.ipynb%29)\n",
    "\t* [[notebook to define the profile regions (step5_profile)](step5_profile.ipynb)](#[notebook-to-define-the-profile-regions-%28step5_profile%29]%28step5_profile.ipynb%29)\n",
    "\t* [[notebook to calculate the position vs time of the front of the \"wave\" (step6_wave_position_vs_time)](step6_wave_position_vs_time.ipynb)](#[notebook-to-calculate-the-position-vs-time-of-the-front-of-the-\"wave\"-%28step6_wave_position_vs_time%29]%28step6_wave_position_vs_time.ipynb%29)\n"
   ]
  },
  {
   "cell_type": "markdown",
   "metadata": {
    "run_control": {
     "frozen": false,
     "read_only": false
    }
   },
   "source": [
    "# List of Notebooks"
   ]
  },
  {
   "cell_type": "markdown",
   "metadata": {
    "run_control": {
     "frozen": false,
     "read_only": false
    }
   },
   "source": [
    "* [[notebook to get file name vs time stamp (step1_create_file_name_vs_time_stamp_ascii_file](step1_create_file_name_vs_time_stamp_ascii_file.ipynb)](#[notebook-to-get-file-name-vs-time-stamp-%28step1_create_file_name_vs_time_stamp_ascii_file]%28step1_create_file_name_vs_time_stamp_ascii_file.ipynb%29)\n",
    "* [[notebook to normalize the data (step2_normalize_data)](step2_normalize_data.ipynb)](#[notebook-to-normalize-the-data-%28step2_normalize_data%29]%28step2_normalize_data.ipynb%29)\n",
    "* [[notebook to rotate images (step3_rotate_images)](step3_rotate_image.ipynb)](#[notebook-to-rotate-images-%28rotate_images%29]%28rotate_image.ipynb%29)\n",
    "* [[notebook to combine images (step4_bin_files)](step4_bin_files.ipynb)](#[notebook-to-combine-images-%28step3_bin_files%29]%28step3_bin_files.ipynb%29)\n",
    "* [[notebook to define the profile regions (step5_profile)](step5_profile.ipynb)](#[notebook-to-define-the-profile-regions-%28step4_profile%29]%28step4_profile.ipynb%29)\n",
    "* [[notebook to calculate the position vs time of the front of the \"wave\" (step6_wave_position_vs_time)](step6_wave_position_vs_time.ipynb)](#[notebook-to-calculate-the-position-vs-time-of-the-front-of-the-\"wave\"-%28step6_wave_position_vs_time%29]%28step6_wave_position_vs_time.ipynb%29)"
   ]
  },
  {
   "cell_type": "markdown",
   "metadata": {
    "run_control": {
     "frozen": false,
     "read_only": false
    }
   },
   "source": [
    "# Description of Notebooks "
   ]
  },
  {
   "cell_type": "markdown",
   "metadata": {
    "run_control": {
     "frozen": false,
     "read_only": false
    }
   },
   "source": [
    "## notebook to get file name vs time stamp -> [step1_create_file_name_vs_time_stamp_ascii_file](step1_create_file_name_vs_time_stamp_ascii_file.ipynb)"
   ]
  },
  {
   "cell_type": "markdown",
   "metadata": {
    "run_control": {
     "frozen": false,
     "read_only": false
    }
   },
   "source": [
    "A 3 columns comma separated file (CSV) will be created using the following format\n",
    "* column 1: name of file\n",
    "* column 2: time stamp in computer format\n",
    "* column 3: time stamp in user readable format\n",
    "    \n",
    "<img src='__docs/step1_create_file_name_vs_time_stamp_ascii_file_1.png'>"
   ]
  },
  {
   "cell_type": "markdown",
   "metadata": {
    "run_control": {
     "frozen": false,
     "read_only": false
    }
   },
   "source": [
    "## notebook to normalize the data -> [step2_normalize_data)](step2_normalize_data.ipynb) "
   ]
  },
  {
   "cell_type": "markdown",
   "metadata": {
    "run_control": {
     "frozen": false,
     "read_only": false
    }
   },
   "source": [
    "The notebook will ask you to define:\n",
    "* a **data folder**, \n",
    "* a threshold value (for gamma filtering)\n",
    "* a set of **open beam** (OB)\n",
    "\n",
    "Data will be normalized after checking that the acquisition time of the data and OB match. \n",
    "\n",
    "Use will have the option to **crop** the data before exporting the normalized images.\n"
   ]
  },
  {
   "cell_type": "markdown",
   "metadata": {
    "run_control": {
     "frozen": false,
     "read_only": false
    }
   },
   "source": [
    "## notebook to rotate images -> [step3_rotate_images)](step3_rotate_image.ipynb)"
   ]
  },
  {
   "cell_type": "markdown",
   "metadata": {
    "run_control": {
     "frozen": false,
     "read_only": false
    }
   },
   "source": [
    "After loading your data, this notebook will allow you to graphically select the rotation angle. Then you will select an output folder to create the new rotated images\n",
    "    \n",
    "<img src='__docs/rotate_images_pyqt_1.png' >\n",
    "<img src='__docs/rotate_images_pyqt_2.png' >\n",
    "    "
   ]
  },
  {
   "cell_type": "markdown",
   "metadata": {
    "run_control": {
     "frozen": false,
     "read_only": false
    }
   },
   "source": [
    "## notebook to combine images -> [step4_bin_files)](step4_bin_files.ipynb) "
   ]
  },
  {
   "cell_type": "markdown",
   "metadata": {
    "run_control": {
     "frozen": false,
     "read_only": false
    }
   },
   "source": [
    "The notebook will ask you to define:\n",
    "    \n",
    "* the data to combine\n",
    "* the time spectra file created in the [step1 notebook](step1_create_file_name_vs_time_stamp_ascii_file.ipynb)"
   ]
  },
  {
   "cell_type": "markdown",
   "metadata": {
    "run_control": {
     "frozen": false,
     "read_only": false
    }
   },
   "source": [
    "## notebook to define the profile regions -> [step5_profile)](step5_profile.ipynb) "
   ]
  },
  {
   "cell_type": "markdown",
   "metadata": {
    "run_control": {
     "frozen": false,
     "read_only": false
    }
   },
   "source": [
    "In this notebook, you will need to specify how you want to regroup the profile region. A configuration file will then be created and used in the [step5](step5_wave_position_vs_time.ipynb)\n",
    "\n",
    "<img src='__docs/step4_profile_1.png'>"
   ]
  },
  {
   "cell_type": "markdown",
   "metadata": {
    "run_control": {
     "frozen": false,
     "read_only": false
    }
   },
   "source": [
    "## notebook to calculate the position vs time of the front of the \"wave\" -> [step6_wave_position_vs_time)](step6_wave_position_vs_time.ipynb)"
   ]
  },
  {
   "cell_type": "markdown",
   "metadata": {
    "run_control": {
     "frozen": false,
     "read_only": false
    }
   },
   "source": [
    "This notebook will use the profile regions defined in the previous step and will determine the position of the \"wave\" vs time and will export the data using a CSV file (one for each region selected)\n",
    "\n",
    "Format of file:\n",
    "* column 1: time_offset(s)\n",
    "* column 2..: mean_counts for each pixel\n",
    "\n",
    "<img src='__docs/step5_wave_position_vs_time_1'>\n",
    "\n"
   ]
  },
  {
   "cell_type": "code",
   "execution_count": null,
   "metadata": {
    "collapsed": false,
    "run_control": {
     "frozen": false,
     "read_only": false
    }
   },
   "outputs": [],
   "source": []
  }
 ],
 "metadata": {
  "anaconda-cloud": {},
  "kernelspec": {
   "display_name": "Python [conda env:py35]",
   "language": "python",
   "name": "conda-env-py35-py"
  },
  "language_info": {
   "codemirror_mode": {
    "name": "ipython",
    "version": 3
   },
   "file_extension": ".py",
   "mimetype": "text/x-python",
   "name": "python",
   "nbconvert_exporter": "python",
   "pygments_lexer": "ipython3",
   "version": "3.5.3"
  },
  "toc": {
   "colors": {
    "hover_highlight": "#DAA520",
    "running_highlight": "#FF0000",
    "selected_highlight": "#FFD700"
   },
   "moveMenuLeft": true,
   "nav_menu": {
    "height": "156px",
    "width": "252px"
   },
   "navigate_menu": true,
   "number_sections": true,
   "sideBar": true,
   "threshold": 4,
   "toc_cell": false,
   "toc_section_display": "block",
   "toc_window_display": false
  }
 },
 "nbformat": 4,
 "nbformat_minor": 0
}
