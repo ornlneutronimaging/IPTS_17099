{
 "cells": [
  {
   "cell_type": "markdown",
   "metadata": {
    "run_control": {
     "frozen": false,
     "read_only": false
    }
   },
   "source": [
    "# Table of Contents\n",
    "* [Description](#Description)\n",
    "* [Python Import](#Python-Import)\n",
    "* [Select Data Folder](#Select-Data-Folder)\n",
    "* [Export Ascii File](#Export-Ascii-File)\n"
   ]
  },
  {
   "cell_type": "markdown",
   "metadata": {
    "run_control": {
     "frozen": false,
     "read_only": false
    }
   },
   "source": [
    "# Description"
   ]
  },
  {
   "cell_type": "markdown",
   "metadata": {
    "run_control": {
     "frozen": false,
     "read_only": false
    }
   },
   "source": [
    "This notebook creates an ASCII (text) file of the acquisition time of each file\n",
    "\n",
    "The output file created will have the name of the data folder and will sit next to this data folder\n",
    "\n",
    "Data folder:\n",
    "```\n",
    "    /data_set/0170113_lLL0_cycling_0120_000.tiff\n",
    "    /data_set/0170113_lLL0_cycling_0120_001.tiff\n",
    "    /data_set/0170113_lLL0_cycling_0120_002.tiff\n",
    "    /data_set/0170113_lLL0_cycling_0120_003.tiff\n",
    "    /data_set/0170113_lLL0_cycling_0120_004.tiff\n",
    "    ...\n",
    "```"
   ]
  },
  {
   "cell_type": "markdown",
   "metadata": {
    "run_control": {
     "frozen": false,
     "read_only": false
    }
   },
   "source": [
    "**data_set.txt**\n",
    "```\n",
    "file_name, acquisition_time_computer_format, acquisition_time_user_format\n",
    "0170113_LLZO_cycling_0120_0000.tiff,853193112.1120361,Mon Jan 13 17:05:12 1997\n",
    "20170113_LLZO_cycling_0120_0001.tiff,853193237.0580895,Mon Jan 13 17:07:17 1997\n",
    "20170113_LLZO_cycling_0120_0002.tiff,853193362.0047945,Mon Jan 13 17:09:22 1997\n",
    "20170113_LLZO_cycling_0120_0003.tiff,853193486.9502357,Mon Jan 13 17:11:26 1997\n",
    "20170113_LLZO_cycling_0120_0004.tiff,853193611.8544211,Mon Jan 13 17:13:31 1997\n",
    "20170113_LLZO_cycling_0120_0005.tiff,853193736.7598045,Mon Jan 13 17:15:36 1997\n",
    "20170113_LLZO_cycling_0120_0006.tiff,853193861.7127193,Mon Jan 13 17:17:41 1997\n",
    "20170113_LLZO_cycling_0120_0007.tiff,853193986.6174998,Mon Jan 13 17:19:46 1997\n",
    "20170113_LLZO_cycling_0120_0008.tiff,853194111.5720892,Mon Jan 13 17:21:51 1997\n",
    "20170113_LLZO_cycling_0120_0009.tiff,853194236.4677708,Mon Jan 13 17:23:56 1997\n",
    "20170113_LLZO_cycling_0120_0010.tiff,853194361.3547363,Mon Jan 13 17:26:01 1997\n",
    "20170113_LLZO_cycling_0120_0011.tiff,853194486.3010912,Mon Jan 13 17:28:06 1997\n",
    "...\n",
    "```"
   ]
  },
  {
   "cell_type": "markdown",
   "metadata": {
    "run_control": {
     "frozen": false,
     "read_only": false
    }
   },
   "source": [
    "# Python Import"
   ]
  },
  {
   "cell_type": "code",
   "execution_count": 6,
   "metadata": {
    "collapsed": false,
    "run_control": {
     "frozen": false,
     "read_only": false
    }
   },
   "outputs": [
    {
     "data": {
      "text/html": [
       "<style>\n",
       "\n",
       "/* The following CSS has been adapted from\n",
       "   http://nbviewer.ipython.org/github/ketch/teaching-numerics-with-notebooks/blob/master/Styling_notebooks.ipynb\n",
       "   by Aron Ahmadia and David Ketcheson and has been reused under CC BY 4.0\n",
       "   */\n",
       "\n",
       "/* main background */\n",
       "#site { \n",
       "    background: #888;\n",
       "    color: #red; \n",
       "}\n",
       "\n",
       "div.container {\n",
       "    width: 100% ! important;\n",
       "}\n",
       "\n",
       "div.cell { /* set cell width to about 80 chars */\n",
       "    width: 95%;\n",
       "}\n",
       "\n",
       "div #notebook { /* centre the content */\n",
       "/*    background: #fff; /* white background for content */\n",
       "    background: blue;\n",
       "    width: 100%;\n",
       "    margin: auto;\n",
       "    padding-left: 1em;\n",
       "    padding-right: 1em;\n",
       "    background-image: url(\"tile_background.jpg\");\n",
       "}\n",
       "\n",
       "#notebook li { /* More space between bullet points */\n",
       "    margin-top:0.4em;\n",
       "}\n",
       "\n",
       "/* change background color of running cells */\n",
       "div.cell.code_cell.running {\n",
       "/*    background-color: rgba(164,188,194,.75); */\n",
       "    background-color: green;\n",
       "    border-width: 8px\n",
       "    border-style: solid\n",
       "    border-color: #111;\n",
       "}\n",
       "\n",
       "/* Put a solid color box around each cell and its output, visually linking them together */\n",
       "div.cell.code_cell {\n",
       "    background-color: rgba(164,188,194,.25); /* Continuum L Gray with alpha 0.25 */\n",
       "    border-radius: 10px; /* rounded borders */\n",
       "    padding: 1em;\n",
       "    margin-top: 1em;\n",
       "}\n",
       "\n",
       "div.text_cell_render{\n",
       "\tfont-family: Georgia, Times, 'Times New Roman', serif;\n",
       "    line-height: 110%;\n",
       "    font-size: 105%;\n",
       "    width: 95%;\n",
       "    margin-left: auto;\n",
       "    margin-right: auto;\n",
       "}\n",
       "\n",
       "\n",
       "/* Formatting for header cells */\n",
       ".text_cell_render h1 {\n",
       "\tfont-family: Arial, 'Helvetica Neue', Helvetica, sans-serif;\n",
       "    font-weight: 400;\n",
       "    font-size: 30pt;\n",
       "    line-height: 100%;\n",
       "    color: rgb(37,55,70); /* Continuum Blue*/\n",
       "    margin-bottom: 0.1em;\n",
       "    margin-top: 0.1em;\n",
       "    display: block;\n",
       "}\n",
       ".text_cell_render h2 {\n",
       "\tfont-family: Arial, 'Helvetica Neue', Helvetica, sans-serif;\n",
       "    font-weight: 700;\n",
       "    font-size: 22pt;\n",
       "    line-height: 100%;\n",
       "    color: rgb(37,55,70);\n",
       "    margin-bottom: 0.1em;\n",
       "    margin-top: 0.1em;\n",
       "    display: block;\n",
       "}\n",
       "\n",
       ".text_cell_render h3 {\n",
       "\tfont-family: Arial, 'Helvetica Neue', Helvetica, sans-serif;\n",
       "    margin-top:12px;\n",
       "    margin-bottom: 3px;\n",
       "    font-style: italic;\n",
       "    color: rgb(37, 55, 70);\n",
       "}\n",
       "\n",
       ".text_cell_render h4 {\n",
       "\tfont-family: Arial, 'Helvetica Neue', Helvetica, sans-serif;\n",
       "}\n",
       "\n",
       ".text_cell_render h5 {\n",
       "\tfont-family: Arial, 'Helvetica Neue', Helvetica, sans-serif;\n",
       "    font-weight: 300;\n",
       "    font-size: 14pt;\n",
       "    font-style: italic;\n",
       "    margin-bottom: .1em;\n",
       "    margin-top: 0.1em;\n",
       "    display: block;\n",
       "}\n",
       "\n",
       ".text_cell_render h6 {\n",
       "\tfont-family: Arial, 'Helvetica Neue', Helvetica, sans-serif;\n",
       "    font-weight: 300;\n",
       "    font-size: 10pt;\n",
       "    margin-bottom: 1px;\n",
       "    margin-top: 1px;\n",
       "}\n",
       "\n",
       ".CodeMirror{\n",
       "        font-family: \"PT Mono\", fixed;\n",
       "        font-size: 100%;\n",
       "}\n",
       "\n",
       "#notebook_panel { /* main background */\n",
       "    background-image: url(\"tile_background.jpg\");\n",
       "}\n",
       "\n",
       "\n",
       "\n",
       "\n",
       "</style>\n"
      ],
      "text/plain": [
       "<IPython.core.display.HTML object>"
      ]
     },
     "execution_count": 6,
     "metadata": {},
     "output_type": "execute_result"
    }
   ],
   "source": [
    "from __code import custom_style\n",
    "custom_style.style()"
   ]
  },
  {
   "cell_type": "code",
   "execution_count": 7,
   "metadata": {
    "collapsed": false,
    "run_control": {
     "frozen": false,
     "read_only": false
    }
   },
   "outputs": [
    {
     "data": {
      "text/html": [
       "<span style=\"font-size: 20px; color:blue\">EXPLANATION:     we are importing all the python libraries</span>    <br><br><span style=\"font-size: 20px; color:blue\"><b>Make sure you     wait until a cell is done executing before running another cell!</span>"
      ],
      "text/plain": [
       "<IPython.core.display.HTML object>"
      ]
     },
     "metadata": {},
     "output_type": "display_data"
    }
   ],
   "source": [
    "ipts_group = 'IPTS_17099'\n",
    "\n",
    "import os\n",
    "import glob\n",
    "import time\n",
    "import numpy as np\n",
    "\n",
    "import pandas as pd\n",
    "\n",
    "from ipywidgets.widgets import interact\n",
    "from ipywidgets import widgets\n",
    "from IPython.core.display import display, HTML\n",
    "\n",
    "from PIL import Image\n",
    "from PIL.ExifTags import TAGS\n",
    "\n",
    "from __code import gui_widgets\n",
    "from __code import config_handler\n",
    "from __code import time_utility\n",
    "\n",
    "display(HTML('<span style=\"font-size: 20px; color:blue\">EXPLANATION: \\\n",
    "    we are importing all the python libraries</span>\\\n",
    "    <br><br><span style=\"font-size: 20px; color:blue\"><b>Make sure you \\\n",
    "    wait until a cell is done executing before running another cell!</span>'))"
   ]
  },
  {
   "cell_type": "code",
   "execution_count": 8,
   "metadata": {
    "collapsed": false,
    "run_control": {
     "frozen": false,
     "read_only": false
    }
   },
   "outputs": [],
   "source": [
    "%gui qt"
   ]
  },
  {
   "cell_type": "markdown",
   "metadata": {
    "run_control": {
     "frozen": false,
     "read_only": false
    }
   },
   "source": [
    "# Select Data Folder"
   ]
  },
  {
   "cell_type": "code",
   "execution_count": 9,
   "metadata": {
    "collapsed": false,
    "format": "tab",
    "run_control": {
     "frozen": false,
     "read_only": false
    },
    "scrolled": true
   },
   "outputs": [
    {
     "data": {
      "text/html": [
       "<span style=\"font-size: 20px; color:blue\">EXPLANATION: select the location (folder)              of the data you want to load</span>"
      ],
      "text/plain": [
       "<IPython.core.display.HTML object>"
      ]
     },
     "metadata": {},
     "output_type": "display_data"
    }
   ],
   "source": [
    "display(HTML('<span style=\"font-size: 20px; color:blue\">EXPLANATION: select the location (folder) \\\n",
    "             of the data you want to load</span>'))\n",
    "\n",
    "root_folder = config_handler.load_config(key='root_folder',\n",
    "                                        default_value = '/HFIR/CG1D/IPTS_17099/',\n",
    "                                        group=ipts_group)\n",
    "data_folder = gui_widgets.gui_dname(dir=root_folder,\n",
    "                                   message='Select the Data Folder ...')\n",
    "if not data_folder == '':\n",
    "    config_handler.save_config(key='data_folder', value=data_folder, group=ipts_group)\n",
    "    config_handler.save_config(key='root_folder', value=os.path.dirname(data_folder), group=ipts_group)\n",
    "\n",
    "    # get list of files\n",
    "    list_of_files = np.sort(glob.glob(data_folder + '/*.tiff'))\n"
   ]
  },
  {
   "cell_type": "code",
   "execution_count": 10,
   "metadata": {
    "collapsed": false,
    "format": "tab",
    "run_control": {
     "frozen": false,
     "read_only": false
    }
   },
   "outputs": [
    {
     "data": {
      "text/html": [
       "<span style=\"font-size: 20px; color:blue\">EXPLANATION: we are now loading the data.... BE PATIENT!</span>"
      ],
      "text/plain": [
       "<IPython.core.display.HTML object>"
      ]
     },
     "metadata": {},
     "output_type": "display_data"
    }
   ],
   "source": [
    "display(HTML('<span style=\"font-size: 20px; color:blue\">EXPLANATION: we are now loading the data.... BE PATIENT!</span>'))\n",
    "\n",
    "w = widgets.IntProgress()\n",
    "w.max = len(list_of_files)\n",
    "display(w)\n",
    "\n",
    "dict_acquisition_time = {}\n",
    "file_to_remove = []\n",
    "for _index, _file in enumerate(list_of_files):\n",
    "    _short_file = os.path.basename(_file)\n",
    "    try:\n",
    "        dict_acquisition_time[_short_file] = time_utility.retrieve_time_stamp(_file)\n",
    "    except KeyError:\n",
    "        file_to_remove.append(_file)\n",
    "    \n",
    "    w.value = _index + 1\n",
    "    \n",
    "final_list_of_files = []\n",
    "for _file in list_of_files:\n",
    "    if _file in file_to_remove:\n",
    "        continue\n",
    "    final_list_of_files.append(_file)\n",
    "\n",
    "list_of_files = final_list_of_files"
   ]
  },
  {
   "cell_type": "markdown",
   "metadata": {
    "run_control": {
     "frozen": false,
     "read_only": false
    }
   },
   "source": [
    "# Export Ascii File"
   ]
  },
  {
   "cell_type": "code",
   "execution_count": 11,
   "metadata": {
    "collapsed": false,
    "format": "tab",
    "run_control": {
     "frozen": false,
     "read_only": false
    }
   },
   "outputs": [
    {
     "data": {
      "text/html": [
       "<span style=\"font-size: 20px; color:blue\">HELP: working with data set: /Volumes/my_book_thunderbolt_duo/IPTS/IPTS_17099/radiographs/LLZO_DCcycle_0p4mA_to_1p2mA</span>"
      ],
      "text/plain": [
       "<IPython.core.display.HTML object>"
      ]
     },
     "metadata": {},
     "output_type": "display_data"
    }
   ],
   "source": [
    "data_set = data_folder\n",
    "display(HTML('<span style=\"font-size: 20px; color:blue\">HELP: working with data set: ' + data_set + '</span>'))"
   ]
  },
  {
   "cell_type": "code",
   "execution_count": 12,
   "metadata": {
    "collapsed": false,
    "format": "tab",
    "run_control": {
     "frozen": false,
     "read_only": false
    }
   },
   "outputs": [
    {
     "data": {
      "text/html": [
       "<span style=\"font-size: 20px; color:blue\">EXPLANATION: select where you want the ascii file     (that will containt the list of file names and their acquisition time) to be created.</span>"
      ],
      "text/plain": [
       "<IPython.core.display.HTML object>"
      ]
     },
     "metadata": {},
     "output_type": "display_data"
    },
    {
     "data": {
      "text/html": [
       "<span style=\"font-size: 20px; color:pink\">WARNING: Make sure you have WRITE access to this folder!</span>"
      ],
      "text/plain": [
       "<IPython.core.display.HTML object>"
      ]
     },
     "metadata": {},
     "output_type": "display_data"
    },
    {
     "name": "stdout",
     "output_type": "stream",
     "text": [
      "The following file has been created: /Users/j35/Desktop/LLZO_DCcycle_0p4mA_to_1p2mA_time_spectra.txt\n"
     ]
    }
   ],
   "source": [
    "display(HTML('<span style=\"font-size: 20px; color:blue\">EXPLANATION: select where you want the ascii file \\\n",
    "    (that will containt the list of file names and their acquisition time) to be created.</span>'))\n",
    "display(HTML('<span style=\"font-size: 20px; color:pink\">WARNING: Make sure you have WRITE access to this folder!</span>'))\n",
    "\n",
    "output_folder = config_handler.load_config(key='output_folder', group=ipts_group)\n",
    "output_folder = gui_widgets.gui_dname(dir=output_folder,\n",
    "                                   message='Select the Output Folder ...')\n",
    "if output_folder:\n",
    "    config_handler.save_config(key='output_folder', value=output_folder, group=ipts_group)   \n",
    "\n",
    "    output_file_name = os.path.basename(data_folder) + '_time_spectra.txt'\n",
    "    output_file_folder = output_folder\n",
    "    full_output_file_name = os.path.join(output_file_folder, output_file_name)\n",
    "\n",
    "    file_name_vs_time_stamp = pd.DataFrame(dict_acquisition_time).transpose()\n",
    "    file_name_vs_time_stamp.to_csv(full_output_file_name, index_label=['file_name'])\n",
    "    \n",
    "    print(\"The following file has been created: {}\".format(full_output_file_name))\n"
   ]
  },
  {
   "cell_type": "code",
   "execution_count": null,
   "metadata": {
    "collapsed": false,
    "run_control": {
     "frozen": false,
     "read_only": false
    }
   },
   "outputs": [],
   "source": []
  }
 ],
 "metadata": {
  "anaconda-cloud": {},
  "kernelspec": {
   "display_name": "Python [conda env:py35]",
   "language": "python",
   "name": "conda-env-py35-py"
  },
  "language_info": {
   "codemirror_mode": {
    "name": "ipython",
    "version": 3
   },
   "file_extension": ".py",
   "mimetype": "text/x-python",
   "name": "python",
   "nbconvert_exporter": "python",
   "pygments_lexer": "ipython3",
   "version": "3.5.3"
  },
  "toc": {
   "colors": {
    "hover_highlight": "#DAA520",
    "running_highlight": "#FF0000",
    "selected_highlight": "#FFD700"
   },
   "moveMenuLeft": true,
   "nav_menu": {
    "height": "84px",
    "width": "252px"
   },
   "navigate_menu": true,
   "number_sections": true,
   "sideBar": true,
   "threshold": 4,
   "toc_cell": false,
   "toc_section_display": "block",
   "toc_window_display": false
  },
  "widgets": {
   "state": {
    "7f11bd6287de4d88aaf345e8b62a59f9": {
     "views": [
      {
       "cell_index": 10
      }
     ]
    }
   },
   "version": "1.2.0"
  }
 },
 "nbformat": 4,
 "nbformat_minor": 0
}
