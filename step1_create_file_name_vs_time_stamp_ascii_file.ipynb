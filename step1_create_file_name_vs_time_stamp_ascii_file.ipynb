{
 "cells": [
  {
   "cell_type": "markdown",
   "metadata": {},
   "source": [
    "# Table of Contents\n",
    "* [Description](#Description)\n",
    "* [Python Import](#Python-Import)\n",
    "* [Select Data Folder](#Select-Data-Folder)\n",
    "* [Export Ascii File](#Export-Ascii-File)\n"
   ]
  },
  {
   "cell_type": "markdown",
   "metadata": {},
   "source": [
    "# Description"
   ]
  },
  {
   "cell_type": "markdown",
   "metadata": {},
   "source": [
    "This notebook creates an ASCII (text) file of the acquisition time of each file\n",
    "\n",
    "The output file created will have the name of the data folder and will sit next to this data folder\n",
    "\n",
    "Data folder:\n",
    "```\n",
    "    /data_set/0170113_lLL0_cycling_0120_000.tiff\n",
    "    /data_set/0170113_lLL0_cycling_0120_001.tiff\n",
    "    /data_set/0170113_lLL0_cycling_0120_002.tiff\n",
    "    /data_set/0170113_lLL0_cycling_0120_003.tiff\n",
    "    /data_set/0170113_lLL0_cycling_0120_004.tiff\n",
    "    ...\n",
    "```"
   ]
  },
  {
   "cell_type": "markdown",
   "metadata": {},
   "source": [
    "**data_set.txt**\n",
    "```\n",
    "file_name, acquisition_time_computer_format, acquisition_time_user_format\n",
    "0170113_LLZO_cycling_0120_0000.tiff,853193112.1120361,Mon Jan 13 17:05:12 1997\n",
    "20170113_LLZO_cycling_0120_0001.tiff,853193237.0580895,Mon Jan 13 17:07:17 1997\n",
    "20170113_LLZO_cycling_0120_0002.tiff,853193362.0047945,Mon Jan 13 17:09:22 1997\n",
    "20170113_LLZO_cycling_0120_0003.tiff,853193486.9502357,Mon Jan 13 17:11:26 1997\n",
    "20170113_LLZO_cycling_0120_0004.tiff,853193611.8544211,Mon Jan 13 17:13:31 1997\n",
    "20170113_LLZO_cycling_0120_0005.tiff,853193736.7598045,Mon Jan 13 17:15:36 1997\n",
    "20170113_LLZO_cycling_0120_0006.tiff,853193861.7127193,Mon Jan 13 17:17:41 1997\n",
    "20170113_LLZO_cycling_0120_0007.tiff,853193986.6174998,Mon Jan 13 17:19:46 1997\n",
    "20170113_LLZO_cycling_0120_0008.tiff,853194111.5720892,Mon Jan 13 17:21:51 1997\n",
    "20170113_LLZO_cycling_0120_0009.tiff,853194236.4677708,Mon Jan 13 17:23:56 1997\n",
    "20170113_LLZO_cycling_0120_0010.tiff,853194361.3547363,Mon Jan 13 17:26:01 1997\n",
    "20170113_LLZO_cycling_0120_0011.tiff,853194486.3010912,Mon Jan 13 17:28:06 1997\n",
    "...\n",
    "```"
   ]
  },
  {
   "cell_type": "markdown",
   "metadata": {},
   "source": [
    "# Python Import"
   ]
  },
  {
   "cell_type": "code",
   "execution_count": 44,
   "metadata": {
    "collapsed": false
   },
   "outputs": [
    {
     "data": {
      "text/html": [
       "<span style=\"font-size: 20px; color:blue\">EXPLANATION: we are importing all the python libraries</span>            <br><br><span style=\"font-size: 20px; color:blue\"><b>Make sure you wait until a cell is done executing before running another cell!</span>"
      ],
      "text/plain": [
       "<IPython.core.display.HTML object>"
      ]
     },
     "metadata": {},
     "output_type": "display_data"
    }
   ],
   "source": [
    "ipts_group = 'IPTS_17099'\n",
    "\n",
    "import os\n",
    "import glob\n",
    "import time\n",
    "\n",
    "import pandas as pd\n",
    "\n",
    "from ipywidgets.widgets import interact\n",
    "from ipywidgets import widgets\n",
    "from IPython.core.display import display, HTML\n",
    "\n",
    "from PIL import Image\n",
    "from PIL.ExifTags import TAGS\n",
    "\n",
    "import gui_widgets\n",
    "import config_handler\n",
    "import time_utility\n",
    "\n",
    "display(HTML('<span style=\"font-size: 20px; color:blue\">EXPLANATION: \\\n",
    "    we are importing all the python libraries</span>\\\n",
    "    <br><br><span style=\"font-size: 20px; color:blue\"><b>Make sure you \\\n",
    "    wait until a cell is done executing before running another cell!</span>'))"
   ]
  },
  {
   "cell_type": "code",
   "execution_count": 15,
   "metadata": {
    "collapsed": true
   },
   "outputs": [],
   "source": [
    "%gui qt"
   ]
  },
  {
   "cell_type": "markdown",
   "metadata": {},
   "source": [
    "# Select Data Folder"
   ]
  },
  {
   "cell_type": "code",
   "execution_count": 45,
   "metadata": {
    "collapsed": false
   },
   "outputs": [
    {
     "data": {
      "text/html": [
       "<span style=\"font-size: 20px; color:blue\">EXPLANATION: select the location (folder)              of the data you want to load</span>"
      ],
      "text/plain": [
       "<IPython.core.display.HTML object>"
      ]
     },
     "metadata": {},
     "output_type": "display_data"
    }
   ],
   "source": [
    "display(HTML('<span style=\"font-size: 20px; color:blue\">EXPLANATION: select the location (folder) \\\n",
    "             of the data you want to load</span>'))\n",
    "\n",
    "root_folder = config_handler.load_config(key='root_folder',\n",
    "                                        default_value = '/HFIR/CG1D/IPTS_17099/',\n",
    "                                        group=ipts_group)\n",
    "data_folder = gui_widgets.gui_dname(dir=root_folder,\n",
    "                                   message='Select the Data Folder ...')\n",
    "if not data_folder == '':\n",
    "    config_handler.save_config(key='data_folder', value=data_folder, group=ipts_group)\n",
    "    config_handler.save_config(key='root_folder', value=os.path.dirname(data_folder), group=ipts_group)\n",
    "\n",
    "    # get list of files\n",
    "    list_of_files = glob.glob(data_folder + '/*.tiff')\n"
   ]
  },
  {
   "cell_type": "code",
   "execution_count": 32,
   "metadata": {
    "collapsed": false
   },
   "outputs": [
    {
     "data": {
      "text/html": [
       "<span style=\"font-size: 20px; color:blue\">EXPLANATION: we are now loading the data.... BE PATIENT!</span>"
      ],
      "text/plain": [
       "<IPython.core.display.HTML object>"
      ]
     },
     "metadata": {},
     "output_type": "display_data"
    }
   ],
   "source": [
    "display(HTML('<span style=\"font-size: 20px; color:blue\">EXPLANATION: we are now loading the data.... BE PATIENT!</span>'))\n",
    "\n",
    "w = widgets.IntProgress()\n",
    "w.max = len(list_of_files)\n",
    "display(w)\n",
    "\n",
    "dict_acquisition_time = {}\n",
    "file_to_remove = []\n",
    "for _index, _file in enumerate(list_of_files):\n",
    "    _short_file = os.path.basename(_file)\n",
    "    try:\n",
    "        dict_acquisition_time[_short_file] = time_utility.retrieve_time_stamp(_file)\n",
    "    except KeyError:\n",
    "        file_to_remove.append(_file)\n",
    "    \n",
    "    w.value = _index + 1\n",
    "    \n",
    "for _file in file_to_remove:\n",
    "    list_of_files.remove(_file)"
   ]
  },
  {
   "cell_type": "markdown",
   "metadata": {},
   "source": [
    "# Export Ascii File"
   ]
  },
  {
   "cell_type": "code",
   "execution_count": 39,
   "metadata": {
    "collapsed": false
   },
   "outputs": [
    {
     "data": {
      "text/html": [
       "<span style=\"font-size: 20px; color:blue\">EXPLANATION: select where you want the ascii file     (that will containt the list of file names and their acquisition time) to be created.</span>"
      ],
      "text/plain": [
       "<IPython.core.display.HTML object>"
      ]
     },
     "metadata": {},
     "output_type": "display_data"
    },
    {
     "data": {
      "text/html": [
       "<span style=\"font-size: 20px; color:pink\">WARNING: Make sure you have WRITE access to this folder!</span>"
      ],
      "text/plain": [
       "<IPython.core.display.HTML object>"
      ]
     },
     "metadata": {},
     "output_type": "display_data"
    },
    {
     "name": "stdout",
     "output_type": "stream",
     "text": [
      "The following file has been created: /SNS/users/j35/test_ipts_17099/LLZO_DCcycle_0p1mA_to_1mA.txt\n"
     ]
    }
   ],
   "source": [
    "display(HTML('<span style=\"font-size: 20px; color:blue\">EXPLANATION: select where you want the ascii file \\\n",
    "    (that will containt the list of file names and their acquisition time) to be created.</span>'))\n",
    "display(HTML('<span style=\"font-size: 20px; color:pink\">WARNING: Make sure you have WRITE access to this folder!</span>'))\n",
    "\n",
    "output_folder = config_handler.load_config(key='output_folder', group=ipts_group)\n",
    "output_folder = gui_widgets.gui_dname(dir=output_folder,\n",
    "                                   message='Select the Output Folder ...')\n",
    "if output_folder:\n",
    "    config_handler.save_config(key='output_folder', value=output_folder, group=ipts_group)   \n",
    "\n",
    "    output_file_name = os.path.basename(data_folder) + '.txt'\n",
    "    output_file_folder = output_folder\n",
    "    full_output_file_name = os.path.join(output_file_folder, output_file_name)\n",
    "\n",
    "    file_name_vs_time_stamp = pd.DataFrame(dict_acquisition_time).transpose()\n",
    "    file_name_vs_time_stamp.to_csv(full_output_file_name, index_label=['file_name'])\n",
    "    \n",
    "    print(\"The following file has been created: {}\".format(full_output_file_name))\n"
   ]
  },
  {
   "cell_type": "code",
   "execution_count": null,
   "metadata": {
    "collapsed": true
   },
   "outputs": [],
   "source": []
  },
  {
   "cell_type": "code",
   "execution_count": null,
   "metadata": {
    "collapsed": true
   },
   "outputs": [],
   "source": []
  }
 ],
 "metadata": {
  "anaconda-cloud": {},
  "kernelspec": {
   "display_name": "imaging",
   "language": "python",
   "name": "imaging"
  },
  "language_info": {
   "codemirror_mode": {
    "name": "ipython",
    "version": 3
   },
   "file_extension": ".py",
   "mimetype": "text/x-python",
   "name": "python",
   "nbconvert_exporter": "python",
   "pygments_lexer": "ipython3",
   "version": "3.5.2"
  },
  "widgets": {
   "state": {
    "04037afc45444026aa3cc13ff828c9fe": {
     "views": [
      {
       "cell_index": 9
      }
     ]
    }
   },
   "version": "1.2.0"
  }
 },
 "nbformat": 4,
 "nbformat_minor": 0
}
